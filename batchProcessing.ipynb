{
 "cells": [
  {
   "cell_type": "code",
   "execution_count": null,
   "metadata": {},
   "outputs": [],
   "source": [
    "import pymongo\n",
    "import pandas as pd\n",
    "import json\n",
    "from bson.son import SON\n",
    "import time\n",
    "import matplotlib.pyplot as plt\n",
    "import seaborn as sns\n",
    "%matplotlib inline"
   ]
  },
  {
   "cell_type": "code",
   "execution_count": null,
   "metadata": {},
   "outputs": [],
   "source": [
    "client = pymongo.MongoClient()"
   ]
  },
  {
   "cell_type": "code",
   "execution_count": null,
   "metadata": {},
   "outputs": [],
   "source": [
    "pipeline = [{\"$group\": {\"_id\": \"$tag\", \"count\": {\"$sum\": \"$count\"}}},{\"$sort\": SON([(\"count\", -1)])}]"
   ]
  },
  {
   "cell_type": "code",
   "execution_count": null,
   "metadata": {},
   "outputs": [],
   "source": [
    "#select database\n",
    "db = client['sparkkafka']\n",
    "#select the collection within the database\n",
    "stream = db.stream\n",
    "#convert entire collection to Pandas dataframe\n",
    "\n"
   ]
  },
  {
   "cell_type": "code",
   "execution_count": null,
   "metadata": {},
   "outputs": [],
   "source": [
    "count = 0\n",
    "while count < 10:\n",
    "    time.sleep( 60 )\n",
    "    stream = pd.DataFrame(list(db.stream.aggregate(pipeline)))\n",
    "    plt.figure( figsize = ( 16, 8 ) )\n",
    "    ax = sns.barplot( x=\"_id\", y=\"count\", data=stream.head(10))\n",
    "    ax.set(xlabel='Keywords', ylabel='counts')\n",
    "    plt.show()\n",
    "    count = count + 1\n",
    "    print (count)"
   ]
  }
 ],
 "metadata": {
  "kernelspec": {
   "display_name": "Python [default]",
   "language": "python",
   "name": "python3"
  },
  "language_info": {
   "codemirror_mode": {
    "name": "ipython",
    "version": 3
   },
   "file_extension": ".py",
   "mimetype": "text/x-python",
   "name": "python",
   "nbconvert_exporter": "python",
   "pygments_lexer": "ipython3",
   "version": "3.6.7"
  }
 },
 "nbformat": 4,
 "nbformat_minor": 2
}
